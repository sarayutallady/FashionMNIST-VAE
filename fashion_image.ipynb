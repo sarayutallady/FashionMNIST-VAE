{
  "cells": [
    {
      "cell_type": "markdown",
      "metadata": {
        "id": "view-in-github",
        "colab_type": "text"
      },
      "source": [
        "<a href=\"https://colab.research.google.com/github/sarayutallady/FashionMNIST-VAE/blob/main/fashion_image.ipynb\" target=\"_parent\"><img src=\"https://colab.research.google.com/assets/colab-badge.svg\" alt=\"Open In Colab\"/></a>"
      ]
    },
    {
      "cell_type": "code",
      "execution_count": null,
      "metadata": {
        "id": "WfcomoMwzPWg"
      },
      "outputs": [],
      "source": [
        "import torch\n",
        "import numpy as np\n",
        "from torch.utils.data import Dataset, DataLoader\n",
        "from torch import nn\n",
        "from torchvision import transforms\n",
        "import matplotlib.pyplot as plt\n",
        "import torchvision\n",
        "import torch.nn.functional as F\n",
        "from torch.autograd import Variable\n",
        "from torch import optim\n"
      ]
    },
    {
      "cell_type": "code",
      "execution_count": null,
      "metadata": {
        "id": "7obtYUQR1e2Y"
      },
      "outputs": [],
      "source": [
        "device = 'cuda' if torch.cuda.is_available() else 'cpu'"
      ]
    },
    {
      "cell_type": "code",
      "execution_count": null,
      "metadata": {
        "colab": {
          "base_uri": "https://localhost:8080/"
        },
        "id": "svFd8O0Q1ifQ",
        "outputId": "333012d4-21f8-49f0-e580-cb86ef2f3ce2"
      },
      "outputs": [
        {
          "output_type": "stream",
          "name": "stderr",
          "text": [
            "100%|██████████| 26.4M/26.4M [00:01<00:00, 13.7MB/s]\n",
            "100%|██████████| 29.5k/29.5k [00:00<00:00, 205kB/s]\n",
            "100%|██████████| 4.42M/4.42M [00:01<00:00, 3.60MB/s]\n",
            "100%|██████████| 5.15k/5.15k [00:00<00:00, 10.8MB/s]\n"
          ]
        }
      ],
      "source": [
        "trans = transforms.Compose([\n",
        "    transforms.ToTensor(), transforms.Normalize((0.5), (0.5))\n",
        "])\n",
        "\n",
        "dataset = torchvision.datasets.FashionMNIST('.data/', download=True, train=True, transform=trans)"
      ]
    },
    {
      "cell_type": "code",
      "execution_count": null,
      "metadata": {
        "colab": {
          "base_uri": "https://localhost:8080/"
        },
        "id": "LNTT0BIM1y47",
        "outputId": "6a6d6dbe-c474-4a0a-c6e5-7856de8ad5dd"
      },
      "outputs": [
        {
          "output_type": "execute_result",
          "data": {
            "text/plain": [
              "{'T-shirt/top': 0,\n",
              " 'Trouser': 1,\n",
              " 'Pullover': 2,\n",
              " 'Dress': 3,\n",
              " 'Coat': 4,\n",
              " 'Sandal': 5,\n",
              " 'Shirt': 6,\n",
              " 'Sneaker': 7,\n",
              " 'Bag': 8,\n",
              " 'Ankle boot': 9}"
            ]
          },
          "metadata": {},
          "execution_count": 4
        }
      ],
      "source": [
        "dataset.class_to_idx"
      ]
    },
    {
      "cell_type": "code",
      "execution_count": null,
      "metadata": {
        "id": "XLit3Av719so"
      },
      "outputs": [],
      "source": [
        "classes = list(dataset.class_to_idx.keys())"
      ]
    },
    {
      "cell_type": "code",
      "execution_count": null,
      "metadata": {
        "id": "bAJqspkg13ac"
      },
      "outputs": [],
      "source": [
        "dataloader = DataLoader(dataset, batch_size=128, shuffle=True)"
      ]
    },
    {
      "cell_type": "code",
      "execution_count": null,
      "metadata": {
        "colab": {
          "base_uri": "https://localhost:8080/",
          "height": 192
        },
        "id": "pcBwps-a2DpD",
        "outputId": "42268480-0d88-4594-cabe-a45c94c4ce36"
      },
      "outputs": [
        {
          "output_type": "display_data",
          "data": {
            "text/plain": [
              "<Figure size 1000x200 with 5 Axes>"
            ],
            "image/png": "[encoded data removed]"
          },
          "metadata": {}
        }
      ],
      "source": [
        "fig, axes = plt.subplots(1,5, figsize=(10,2))\n",
        "\n",
        "for ax in axes.ravel():\n",
        "  r = next(iter(dataloader))\n",
        "  ax.imshow(r[0].numpy()[1].reshape(28,28), cmap='bone_r')\n",
        "  ax.set_title(classes[r[1].numpy()[1]])\n",
        "  ax.axis('off')\n"
      ]
    },
    {
      "cell_type": "code",
      "execution_count": null,
      "metadata": {
        "id": "4qp8zxZM2t6S"
      },
      "outputs": [],
      "source": [
        "class VAE(nn.Module):\n",
        "  def __init__(self):\n",
        "    super().__init__()\n",
        "    self.input_layer = nn.Linear(784, 400)\n",
        "    self.mu = nn.Linear(400, 20)\n",
        "    self.sigma = nn.Linear(400, 20)\n",
        "    self.upscale_sample = nn.Linear(20,400)\n",
        "    self.output_layer = nn.Linear(400, 784)\n",
        "\n",
        "  def encode(self, x):\n",
        "    x = F.relu(self.input_layer(x))\n",
        "    return self.mu(x), self.sigma(x)\n",
        "\n",
        "  def parametric(self, mu, sigma):\n",
        "    std = sigma.exp()\n",
        "\n",
        "    if torch.cuda.is_available():\n",
        "      sample = torch.cuda.FloatTensor(mu.size()).normal_()\n",
        "    else:\n",
        "      sample = torch.FloatTensor(mu.size()).normal_()\n",
        "\n",
        "    sample = Variable(sample)\n",
        "\n",
        "    return sample.mul(std).add(mu)\n",
        "\n",
        "  def decode(self, sample):\n",
        "    x = F.relu(self.upscale_sample(sample))\n",
        "    return torch.sigmoid(self.output_layer(x))\n",
        "\n",
        "\n",
        "  def forward(self, x):\n",
        "    mu, sigma = self.encode(x)\n",
        "    sample = self.parametric(mu, sigma)\n",
        "\n",
        "    return self.decode(sample), mu, sigma"
      ]
    },
    {
      "cell_type": "code",
      "execution_count": null,
      "metadata": {
        "id": "enb7Qx9440KF"
      },
      "outputs": [],
      "source": [
        "model = VAE().to(device)"
      ]
    },
    {
      "cell_type": "code",
      "execution_count": null,
      "metadata": {
        "colab": {
          "base_uri": "https://localhost:8080/"
        },
        "id": "AFb1hMmQ42f3",
        "outputId": "24372678-8066-468c-bd71-1676801708dd"
      },
      "outputs": [
        {
          "output_type": "execute_result",
          "data": {
            "text/plain": [
              "VAE(\n",
              "  (input_layer): Linear(in_features=784, out_features=400, bias=True)\n",
              "  (mu): Linear(in_features=400, out_features=20, bias=True)\n",
              "  (sigma): Linear(in_features=400, out_features=20, bias=True)\n",
              "  (upscale_sample): Linear(in_features=20, out_features=400, bias=True)\n",
              "  (output_layer): Linear(in_features=400, out_features=784, bias=True)\n",
              ")"
            ]
          },
          "metadata": {},
          "execution_count": 10
        }
      ],
      "source": [
        "model"
      ]
    },
    {
      "cell_type": "code",
      "execution_count": null,
      "metadata": {
        "id": "W7LWUZqH5BN2"
      },
      "outputs": [],
      "source": [
        "def loss_function(reconstructed, real, mu, sigma):\n",
        "  image_loss = nn.MSELoss(reduction='sum')(reconstructed, real)\n",
        "\n",
        "  kl_loss = -0.5*(torch.sum(1+sigma - mu.pow(2) - sigma.exp()))\n",
        "\n",
        "  return image_loss, kl_loss"
      ]
    },
    {
      "cell_type": "code",
      "execution_count": null,
      "metadata": {
        "id": "6RVSXzJZ5dzF"
      },
      "outputs": [],
      "source": [
        "optimizer = optim.Adam(model.parameters(), lr=1e-3)"
      ]
    },
    {
      "cell_type": "code",
      "execution_count": null,
      "metadata": {
        "colab": {
          "base_uri": "https://localhost:8080/"
        },
        "id": "_PU8ZHKa5Fqo",
        "outputId": "97e92c9c-3793-4dcd-b934-5d476332c503"
      },
      "outputs": [
        {
          "output_type": "stream",
          "name": "stdout",
          "text": [
            "Epoch: 1/10\n",
            "Epoch 1: Loss (Reconstruction): 59966.6235, KL Loss: 905.3431, Accuracy: 0.56%\n",
            "Epoch: 2/10\n",
            "Epoch 2: Loss (Reconstruction): 59915.4907, KL Loss: 908.9147, Accuracy: 0.57%\n",
            "Epoch: 3/10\n",
            "Epoch 3: Loss (Reconstruction): 59876.2504, KL Loss: 910.8153, Accuracy: 0.58%\n",
            "Epoch: 4/10\n",
            "Epoch 4: Loss (Reconstruction): 59846.6768, KL Loss: 911.3517, Accuracy: 0.58%\n",
            "Epoch: 5/10\n",
            "Epoch 5: Loss (Reconstruction): 59812.3690, KL Loss: 916.8603, Accuracy: 0.58%\n",
            "Epoch: 6/10\n",
            "Epoch 6: Loss (Reconstruction): 59788.3349, KL Loss: 917.2897, Accuracy: 0.59%\n",
            "Epoch: 7/10\n",
            "Epoch 7: Loss (Reconstruction): 59769.3167, KL Loss: 916.8987, Accuracy: 0.59%\n",
            "Epoch: 8/10\n",
            "Epoch 8: Loss (Reconstruction): 59747.8524, KL Loss: 918.3253, Accuracy: 0.59%\n",
            "Epoch: 9/10\n",
            "Epoch 9: Loss (Reconstruction): 59732.7208, KL Loss: 917.5557, Accuracy: 0.60%\n",
            "Epoch: 10/10\n",
            "Epoch 10: Loss (Reconstruction): 59718.9015, KL Loss: 918.7459, Accuracy: 0.60%\n"
          ]
        }
      ],
      "source": [
        "epochs = 10\n",
        "\n",
        "for epoch in range(epochs):\n",
        "    model.train()\n",
        "    print(f\"Epoch: {epoch+1}/{epochs}\")\n",
        "\n",
        "    train_loss_im, train_loss_kl = 0, 0\n",
        "    correct_reconstructions = 0\n",
        "    total_samples = 0\n",
        "\n",
        "    for b, data in enumerate(dataloader):\n",
        "        img, _ = data\n",
        "        img = img.view(img.size(0), -1)\n",
        "        img = img.to(device)\n",
        "\n",
        "        optimizer.zero_grad()\n",
        "\n",
        "        # Forward pass\n",
        "        recons, mu, sigma = model(img)\n",
        "\n",
        "        # Compute losses\n",
        "        loss_im, loss_kl = loss_function(recons, img, mu, sigma)\n",
        "        loss = loss_im + loss_kl\n",
        "\n",
        "        # Backward pass and optimization\n",
        "        loss.backward()\n",
        "        optimizer.step()\n",
        "\n",
        "        # Accumulate losses\n",
        "        train_loss_im += loss_im.item()\n",
        "        train_loss_kl += loss_kl.item()\n",
        "\n",
        "        # Compute accuracy (assuming reconstruction threshold)\n",
        "        predicted = (recons > 0.5).float()  # Assuming pixel values are normalized between 0 and 1\n",
        "        correct_reconstructions += (predicted == img).sum().item()\n",
        "        total_samples += img.numel()\n",
        "\n",
        "    # Compute average loss and pseudo-accuracy\n",
        "    avg_loss_im = train_loss_im / len(dataloader)\n",
        "    avg_loss_kl = train_loss_kl / len(dataloader)\n",
        "    accuracy = 100 * correct_reconstructions / total_samples\n",
        "\n",
        "    print(f\"Epoch {epoch+1}: Loss (Reconstruction): {avg_loss_im:.4f}, KL Loss: {avg_loss_kl:.4f}, Accuracy: {accuracy:.2f}%\")\n"
      ]
    },
    {
      "cell_type": "code",
      "execution_count": null,
      "metadata": {
        "colab": {
          "base_uri": "https://localhost:8080/",
          "height": 325
        },
        "id": "lHK6wDzt6V0N",
        "outputId": "57110f3a-04a8-48cf-9fd0-3111047488dd"
      },
      "outputs": [
        {
          "output_type": "execute_result",
          "data": {
            "text/plain": [
              "[]"
            ]
          },
          "metadata": {},
          "execution_count": 27
        },
        {
          "output_type": "display_data",
          "data": {
            "text/plain": [
              "<Figure size 640x480 with 2 Axes>"
            ],
            "image/png": "[encoded data removed]"
          },
          "metadata": {}
        }
      ],
      "source": [
        "model.eval()\n",
        "\n",
        "ev_img = next(iter(dataloader))[0].numpy()[1].reshape(28,28)\n",
        "\n",
        "ev_img_r = ev_img.ravel()\n",
        "#model= dnn.read(mm.weight,mm.cfg)\n",
        "\n",
        "ev_mu, ev_sigma = model.encode(torch.from_numpy(ev_img_r).cuda())\n",
        "\n",
        "ev_param_tensor = model.parametric(ev_mu, ev_sigma)\n",
        "\n",
        "ev_out = model.decode(ev_param_tensor).cpu().detach().numpy().reshape(28,28)\n",
        "\n",
        "fig, ax = plt.subplots(1,2)\n",
        "\n",
        "ax[0].set_title('Original Image')\n",
        "\n",
        "ax[0].imshow(ev_img, cmap='bone_r')\n",
        "\n",
        "ax[1].set_title('Reconstructed Image')\n",
        "\n",
        "ax[1].imshow(ev_out, cmap='bone_r')\n",
        "\n",
        "plt.plot()"
      ]
    }
  ],
  "metadata": {
    "accelerator": "GPU",
    "colab": {
      "gpuType": "T4",
      "provenance": [],
      "include_colab_link": true
    },
    "kernelspec": {
      "display_name": "Python 3 (ipykernel)",
      "language": "python",
      "name": "python3"
    },
    "language_info": {
      "codemirror_mode": {
        "name": "ipython",
        "version": 3
      },
      "file_extension": ".py",
      "mimetype": "text/x-python",
      "name": "python",
      "nbconvert_exporter": "python",
      "pygments_lexer": "ipython3",
      "version": "3.12.3"
    }
  },
  "nbformat": 4,
  "nbformat_minor": 0
}